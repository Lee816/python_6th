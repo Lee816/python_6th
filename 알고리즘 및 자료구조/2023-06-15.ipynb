{
 "cells": [
  {
   "attachments": {},
   "cell_type": "markdown",
   "metadata": {},
   "source": [
    "개발자가 자주 쓰는 스택과 큐 개발자라면 알고있어야 하는 내용"
   ]
  },
  {
   "attachments": {},
   "cell_type": "markdown",
   "metadata": {},
   "source": [
    "스택은 후입선출(LIFO) 방식이며 - 설거지 순서와도 같다 <br>\n",
    "큐는 선입선출(FIFO) 방식이며 - 오픈런 줄과 같다"
   ]
  },
  {
   "attachments": {},
   "cell_type": "markdown",
   "metadata": {},
   "source": [
    "## 스택 구현"
   ]
  },
  {
   "cell_type": "code",
   "execution_count": null,
   "metadata": {},
   "outputs": [],
   "source": [
    "class ListNode:\n",
    "    def __init__(self, value):\n",
    "        self.value = value # 전달받은 value를 노드에 저장한다.\n",
    "        self.next = None\n",
    "\n",
    "\n",
    "class Stack: # stack 클래스 선언\n",
    "    def __init__(self):\n",
    "        self.head = None # stack의 head 값\n",
    "        self.size = 0 # stack의 현재 크기\n",
    "\n",
    "    def is_empty(self): # stack이 비어있는지 확인\n",
    "        return self.size == 0\n",
    "\n",
    "    def push(self, value): # stack에 값 넣기\n",
    "        new_node = ListNode(value) # value값으로 새로운 노드 생성\n",
    "        new_node.next = self.head # 현재 노드의 head 값을 새로운 노드에 저장\n",
    "        self.head = new_node # head에 현재 노드의 값을 저장\n",
    "        self.size += 1 # stack의 크기 증가\n",
    "\n",
    "    def pop(self): # stack 값 꺼내기\n",
    "        if self.is_empty(): # stack이 비어있으면 오류 발생\n",
    "            raise IndexError(\"pop from an empty stack\")\n",
    "        value = self.head.value # 현재 노드의 값을 저장\n",
    "        self.head = self.head.next # 다음 노드의 헤드값을 가져오기\n",
    "        self.size -= 1 # stack 사이즈 줄이기\n",
    "        return value # 꺼낸 현재 노드값을 반환"
   ]
  },
  {
   "attachments": {},
   "cell_type": "markdown",
   "metadata": {},
   "source": [
    "## Valid Parentheses\n"
   ]
  },
  {
   "attachments": {},
   "cell_type": "markdown",
   "metadata": {},
   "source": [
    "Given a string s containing just the characters '(', ')', '{', '}', '[' and ']', determine if the input string is valid.\n",
    "\n",
    "An input string is valid if:\n",
    "\n",
    "Open brackets must be closed by the same type of brackets.\n",
    "Open brackets must be closed in the correct order.\n",
    "Every close bracket has a corresponding open bracket of the same type."
   ]
  },
  {
   "attachments": {},
   "cell_type": "markdown",
   "metadata": {},
   "source": [
    "Constraints:\n",
    "\n",
    "- 1 <= s.length <= 104\n",
    "- s consists of parentheses only '()[]{}'."
   ]
  },
  {
   "attachments": {},
   "cell_type": "markdown",
   "metadata": {},
   "source": [
    "##### Example 1:\n",
    "Input: s = \"()\"\n",
    "<br>\n",
    "Output: true\n",
    "\n",
    "##### Example 2:\n",
    "Input: s = \"()[]{}\"\n",
    "<br>\n",
    "Output: true\n",
    "\n",
    "##### Example 3:\n",
    "Input: s = \"(]\"\n",
    "<br>\n",
    "Output: false"
   ]
  },
  {
   "cell_type": "code",
   "execution_count": null,
   "metadata": {},
   "outputs": [],
   "source": [
    "def isValid(self, s: str) -> bool:\n",
    "    stack = [] # 스택을 위한 리스트\n",
    "    mapping = { # 데이터 비교를 위한 맵핑\n",
    "        ')' : '(',\n",
    "        '}' : '{',\n",
    "        ']' : '['\n",
    "    }\n",
    "    \n",
    "    for char in s:\n",
    "        if char in mapping: # char이 닫는 괄호일때 실행\n",
    "            # 스택 마지막 요소 꺼내서 확인후 저장, 비어 있으면 empty 반환\n",
    "            top_element = stack.pop() if stack else 'empty' \n",
    "            if mapping[char] != top_element: # 닫는 괄호(키) 값과 stack의 마지막 여는 괄호의 값이 다르면 False를 반환\n",
    "                return False\n",
    "        else: # 여는괄호라면 stack에 순서대로 저장\n",
    "            stack.append(char)\n",
    "    return not stack # stack 비어있다면 제대로 괄호가 생성된 것으로 not 을 붙여서 반환"
   ]
  },
  {
   "attachments": {},
   "cell_type": "markdown",
   "metadata": {},
   "source": [
    "## Remove Duplicate Letters\n"
   ]
  },
  {
   "attachments": {},
   "cell_type": "markdown",
   "metadata": {},
   "source": [
    "Given a string s, remove duplicate letters so that every letter appears once and only once. You must make sure your result is \n",
    "the smallest in lexicographical order\n",
    " among all possible results."
   ]
  },
  {
   "attachments": {},
   "cell_type": "markdown",
   "metadata": {},
   "source": [
    "Constraints:\n",
    "\n",
    "- 1 <= s.length <= 104\n",
    "- s consists of lowercase English letters."
   ]
  },
  {
   "attachments": {},
   "cell_type": "markdown",
   "metadata": {},
   "source": [
    "Example 1:\n",
    "\n",
    "Input: s = \"bcabc\"\n",
    "<br>\n",
    "Output: \"abc\"\n",
    "\n",
    "Example 2:\n",
    "\n",
    "Input: s = \"cbacdcbc\"\n",
    "<br>\n",
    "Output: \"acdb\""
   ]
  },
  {
   "cell_type": "code",
   "execution_count": null,
   "metadata": {},
   "outputs": [],
   "source": [
    "def removeDuplicateLetters(self, s: str) -> str:\n",
    "    if not s: # 문자열이 아닐 경우 '' 반환\n",
    "        return ''\n",
    "    \n",
    "    for char in sorted(set(s)): # 전달받은 문자열의 중복을 없애고 오름차순으로 정렬한후 하나씩 for 문을 돌린다\n",
    "        suffix = s[s.index(char):] # suffix 에 제일먼저 나오는 알파벳부터 s에서 문자열 추출\n",
    "        if set(s) == set(suffix): # 중복제거한 입력받은 문자열과 제일먼저나오는 문자열 뒤로 추출한것의 중복제거가 같을 경우 \n",
    "            return char + self.removeDuplicateLetters(suffix.replace(char,'')) # 제일먼저나오는 문자를 앞에 붙이고 그 문자를 삭제한 입력받은 문자열을 다시 함수를 돌린다."
   ]
  },
  {
   "cell_type": "code",
   "execution_count": null,
   "metadata": {},
   "outputs": [],
   "source": [
    "def removeDuplicateLetters(self, s: str) -> str:\n",
    "    if not s:\n",
    "        return ''\n",
    "    \n",
    "    # 문자열의 문자 빈도수 계산\n",
    "    counter = {char:0 for char in set(s)} # 중복제거한 문자를 dict로 생성\n",
    "    for char in s: # 각 문자의 출현 빈도수를 생성\n",
    "        counter[char] += 1\n",
    "    \n",
    "    # 사전순으로 가장 작은 문자의 인덱스 찾기\n",
    "    min_idx = 0\n",
    "    for i, char in enumerate(s): \n",
    "        if char < s[min_idx]: # 문자(아스키 코드) 크기 비교? 현재의 작은 문자가 현재문자보다 크면 실행\n",
    "            min_idx = i # 현재 문자가 제일 작기 때문에 현재 문자의 인덱스 값을 저장\n",
    "        counter[char] -= 1 # 문자의 빈도값 내리기\n",
    "        if counter[char] ==0: # 문자의 빈도가 0이 되면 for문 탈출\n",
    "            break\n",
    "\n",
    "    return s[min_idx] + self.removeDuplicateLetters(s[min_idx+1:].replace(s[min_idx],''))\n",
    "    # 작은 문자는 앞으로 보내고 이 문자를 제외한 문자열을 다시 함수로 반환"
   ]
  },
  {
   "cell_type": "code",
   "execution_count": null,
   "metadata": {},
   "outputs": [],
   "source": [
    "def removeDuplicateLetters(self, s: str) -> str:\n",
    "    if not s:\n",
    "        return ''\n",
    "    \n",
    "    last_occurrence = {c:i for i,c in enumerate(s)}# 각 문자와 인덱스 값을 맵핑\n",
    "    stack = [] # 결과값 저장\n",
    "    in_stack = set()  # \n",
    "\n",
    "    for i,c in enumerate(s): # 각 문자와 인덱스를 불러옴\n",
    "        if c not in in_stack: # 불러온 문자가 set에 없으면 실행\n",
    "            while stack and c < stack[-i] and i < last_occurrence[stack[-1]]: # 결과값의 마지막 문자와 인덱스가 불러온 문자와 인덱스 값보다 크면 실행\n",
    "                in_stack.remove(stack.pop()) # 저장되어있는 마지막 값을 제거\n",
    "\n",
    "            stack.append(c) # 불러온 문자를 저장\n",
    "            in_stack.add(c) # 불러온 문자를 set에 저장\n",
    "    return ''.join(stack)"
   ]
  },
  {
   "attachments": {},
   "cell_type": "markdown",
   "metadata": {},
   "source": [
    "## Daily Temperatures"
   ]
  },
  {
   "attachments": {},
   "cell_type": "markdown",
   "metadata": {},
   "source": [
    "Given an array of integers temperatures represents the daily temperatures, return an array answer such that answer[i] is the number of days you have to wait after the ith day to get a warmer temperature. If there is no future day for which this is possible, keep answer[i] == 0 instead."
   ]
  },
  {
   "attachments": {},
   "cell_type": "markdown",
   "metadata": {},
   "source": [
    "Constraints:\n",
    "\n",
    "- 1 <= temperatures.length <= 105\n",
    "- 30 <= temperatures[i] <= 100"
   ]
  },
  {
   "attachments": {},
   "cell_type": "markdown",
   "metadata": {},
   "source": [
    "Example 1:\n",
    "\n",
    "Input: temperatures = [73,74,75,71,69,72,76,73]\n",
    "<br>\n",
    "Output: [1,1,4,2,1,1,0,0]\n",
    "\n",
    "Example 2:\n",
    "\n",
    "Input: temperatures = [30,40,50,60]\n",
    "<br>\n",
    "Output: [1,1,1,0]\n",
    "\n",
    "Example 3:\n",
    "\n",
    "Input: temperatures = [30,60,90]\n",
    "<br>\n",
    "Output: [1,1,0]"
   ]
  },
  {
   "cell_type": "code",
   "execution_count": null,
   "metadata": {},
   "outputs": [],
   "source": [
    "def dailyTemperatures(self, temperatures: List[int]) -> List[int]:\n",
    "    ans = [0] * len(temperatures)\n",
    "    stack = []\n",
    "    for i, tem in enumerate(temperatures): # 각 온도와 인덱스 값을 불러옴\n",
    "        while stack and tem > temperatures[stack[-1]]: # 불러온 온도가 마지막 인덱스의 온도값보다 크면\n",
    "            last = stack.pop() # 인덱스 값을 가져옴\n",
    "            ans[last] = i - last # 현재의 인덱스 값과 불러온 인덱스 값의 차이를 저장\n",
    "        stack.append(i) # 현재 인덱스 값을 저장\n",
    "    return ans"
   ]
  },
  {
   "attachments": {},
   "cell_type": "markdown",
   "metadata": {},
   "source": [
    "## Implement Queue using Stacks\n"
   ]
  },
  {
   "attachments": {},
   "cell_type": "markdown",
   "metadata": {},
   "source": [
    "Implement a first in first out (FIFO) queue using only two stacks. The implemented queue should support all the functions of a normal queue (push, peek, pop, and empty).\n",
    "\n",
    "Implement the MyQueue class:\n",
    "\n",
    "- void push(int x) Pushes element x to the back of the queue.\n",
    "- int pop() Removes the element from the front of the queue and returns it.\n",
    "- int peek() Returns the element at the front of the queue.\n",
    "- boolean empty() Returns true if the queue is empty, false otherwise.\n",
    "\n",
    "Notes:\n",
    "\n",
    "- You must use only standard operations of a stack, which means only push to top, peek/pop from top, size, and is empty operations are valid.\n",
    "- Depending on your language, the stack may not be supported natively. You may simulate a stack using a list or deque (double-ended queue) as long as you use only a stack's standard operations."
   ]
  },
  {
   "attachments": {},
   "cell_type": "markdown",
   "metadata": {},
   "source": [
    "Constraints:\n",
    "\n",
    "- 1 <= x <= 9\n",
    "- At most 100 calls will be made to push, pop, peek, and empty.\n",
    "- All the calls to pop and peek are valid."
   ]
  },
  {
   "attachments": {},
   "cell_type": "markdown",
   "metadata": {},
   "source": [
    "Example 1:\n",
    "\n",
    "Input\n",
    "[\"MyQueue\", \"push\", \"push\", \"peek\", \"pop\", \"empty\"]\n",
    "[[], [1], [2], [], [], []]\n",
    "<br>\n",
    "Output\n",
    "[null, null, null, 1, 1, false]\n",
    "\n",
    "Explanation\n",
    "MyQueue myQueue = new MyQueue();\n",
    "myQueue.push(1); // queue is: [1] <br>\n",
    "myQueue.push(2); // queue is: [1, 2] (leftmost is front of the queue) <br>\n",
    "myQueue.peek(); // return 1 <br>\n",
    "myQueue.pop(); // return 1, queue is [2] <br>\n",
    "myQueue.empty(); // return false <br>"
   ]
  },
  {
   "cell_type": "code",
   "execution_count": null,
   "metadata": {},
   "outputs": [],
   "source": [
    "class MyQueue:\n",
    "\n",
    "    def __init__(self,value):\n",
    "        self.input = [] # 입구\n",
    "        self.output = [] # 출구\n",
    "\n",
    "    def push(self, x: int) -> None:\n",
    "        self.input.append(x) # (오른쪽입구기준) 전달받은 값을 입구에 넣어준다\n",
    "\n",
    "    def pop(self) -> int:\n",
    "        self.peek() # 입구로 들어온 순서를 뒤집어 준다\n",
    "        return self.output.pop() # 순서가 뒤집혔기 때문에 제일 먼저 입구에 들어온 값이 마지막 값이되어 삭제\n",
    "\n",
    "    def peek(self) -> int:\n",
    "        if not self.output: # 출구로 나가는 값이 없으면 실행\n",
    "            while self.input: # 입구로 들어온 값이 없을때 까지 실행\n",
    "                self.output.append(self.input.pop()) # 마지막으로 입구로 들어온 값부터 출구로 보내줌\n",
    "        return self.output[-1] # 제일 먼저 출구로 갈 값이 제일 먼저 들어온 값이기 때문에 먼저 출구로 갈 값을 반환\n",
    "\n",
    "    def empty(self) -> bool: # 큐가 비어 있는지 확인\n",
    "        return self.input == [] and self.output == []"
   ]
  },
  {
   "attachments": {},
   "cell_type": "markdown",
   "metadata": {},
   "source": [
    "## Implement Stack using Queues\n"
   ]
  },
  {
   "attachments": {},
   "cell_type": "markdown",
   "metadata": {},
   "source": [
    "Implement a last-in-first-out (LIFO) stack using only two queues. The implemented stack should support all the functions of a normal stack (push, top, pop, and empty).\n",
    "\n",
    "Implement the MyStack class:\n",
    "\n",
    "- void push(int x) Pushes element x to the top of the stack.\n",
    "- int pop() Removes the element on the top of the stack and returns it.\n",
    "- int top() Returns the element on the top of the stack.\n",
    "- boolean empty() Returns true if the stack is empty, false otherwise.\n",
    "\n",
    "Notes:\n",
    "\n",
    "- You must use only standard operations of a queue, which means that only push to back, peek/pop from front, size and is empty operations are valid.\n",
    "- Depending on your language, the queue may not be supported natively. You may simulate a queue using a list or deque (double-ended queue) as long as you use only a queue's standard operations."
   ]
  },
  {
   "attachments": {},
   "cell_type": "markdown",
   "metadata": {},
   "source": [
    "Constraints:\n",
    "\n",
    "- 1 <= x <= 9\n",
    "- At most 100 calls will be made to push, pop, top, and empty.\n",
    "- All the calls to pop and top are valid."
   ]
  },
  {
   "attachments": {},
   "cell_type": "markdown",
   "metadata": {},
   "source": [
    "Example 1:\n",
    "\n",
    "Input\n",
    "[\"MyStack\", \"push\", \"push\", \"top\", \"pop\", \"empty\"]\n",
    "[[], [1], [2], [], [], []] <br>\n",
    "Output\n",
    "[null, null, null, 2, 2, false]\n",
    "\n",
    "Explanation\n",
    "MyStack myStack = new MyStack();<br>\n",
    "myStack.push(1); <br>\n",
    "myStack.push(2); <br>\n",
    "myStack.top(); // return 2 <br>\n",
    "myStack.pop(); // return 2 <br>\n",
    "myStack.empty(); // return False"
   ]
  },
  {
   "cell_type": "code",
   "execution_count": null,
   "metadata": {},
   "outputs": [],
   "source": [
    "class MyStack:\n",
    "\n",
    "    def __init__(self):\n",
    "        self.q = collections.deque() # 데크 생성\n",
    "\n",
    "    def push(self, x: int) -> None:\n",
    "        self.q.append(x) # 받아온 값을 저장\n",
    "        for _ in range(len(self.q)-1): # 왼쪽값 순서대로 오른쪽으로 붙여줌 ( 순서 뒤집기 ) 현재넣은 값 전까지\n",
    "            self.q.append(self.q.popleft())\n",
    "\n",
    "    def pop(self) -> int:\n",
    "        return self.q.popleft() # 마지막으로 들어온 값이 제일 왼쪽에 있기 때문에 popleft\n",
    "\n",
    "    def top(self) -> int: # 제일 마지막 으로 들어온 값이 제일 왼쪽에 있기 때문에 인덱스가 0\n",
    "        return self.q[0]\n",
    "\n",
    "    def empty(self) -> bool: # 비어있는지 확인\n",
    "        return len(self.q) == 0"
   ]
  },
  {
   "attachments": {},
   "cell_type": "markdown",
   "metadata": {},
   "source": [
    "## Design Circular Queue\n"
   ]
  },
  {
   "attachments": {},
   "cell_type": "markdown",
   "metadata": {},
   "source": [
    "Design your implementation of the circular queue. The circular queue is a linear data structure in which the operations are performed based on FIFO (First In First Out) principle, and the last position is connected back to the first position to make a circle. It is also called \"Ring Buffer\".\n",
    "\n",
    "One of the benefits of the circular queue is that we can make use of the spaces in front of the queue. In a normal queue, once the queue becomes full, we cannot insert the next element even if there is a space in front of the queue. But using the circular queue, we can use the space to store new values.\n",
    "\n",
    "Implement the MyCircularQueue class:\n",
    "\n",
    "- MyCircularQueue(k) Initializes the object with the size of the queue to be k.\n",
    "- int Front() Gets the front item from the queue. If the queue is empty, return -1.\n",
    "- int Rear() Gets the last item from the queue. If the queue is empty, return -1.\n",
    "- boolean enQueue(int value) Inserts an element into the circular queue. Return true if the operation is successful.\n",
    "- boolean deQueue() Deletes an element from the circular queue. Return true if the operation is successful.\n",
    "- boolean isEmpty() Checks whether the circular queue is empty or not.\n",
    "- boolean isFull() Checks whether the circular queue is full or not.\n",
    "You must solve the problem without using the built-in queue data structure in your programming language. "
   ]
  },
  {
   "attachments": {},
   "cell_type": "markdown",
   "metadata": {},
   "source": [
    "Constraints:\n",
    "\n",
    "- 1 <= k <= 1000\n",
    "- 0 <= value <= 1000\n",
    "- At most 3000 calls will be made to enQueue, deQueue, Front, Rear, isEmpty, and isFull."
   ]
  },
  {
   "attachments": {},
   "cell_type": "markdown",
   "metadata": {},
   "source": [
    "Example 1:\n",
    "\n",
    "Input\n",
    "[\"MyCircularQueue\", \"enQueue\", \"enQueue\", \"enQueue\", \"enQueue\", \"Rear\", \"isFull\", \"deQueue\", \"enQueue\", \"Rear\"]\n",
    "[[3], [1], [2], [3], [4], [], [], [], [4], []] <br>\n",
    "Output\n",
    "[null, true, true, true, false, 3, true, true, true, 4]\n",
    "\n",
    "Explanation\n",
    "MyCircularQueue myCircularQueue = new MyCircularQueue(3); <br>\n",
    "myCircularQueue.enQueue(1); // return True <br>\n",
    "myCircularQueue.enQueue(2); // return True <br>\n",
    "myCircularQueue.enQueue(3); // return True <br>\n",
    "myCircularQueue.enQueue(4); // return False <br>\n",
    "myCircularQueue.Rear();     // return 3 <br>\n",
    "myCircularQueue.isFull();   // return True <br>\n",
    "myCircularQueue.deQueue();  // return True <br>\n",
    "myCircularQueue.enQueue(4); // return True <br>\n",
    "myCircularQueue.Rear();     // return 4"
   ]
  },
  {
   "cell_type": "code",
   "execution_count": null,
   "metadata": {},
   "outputs": [],
   "source": [
    "class MyCircularQueue:\n",
    "\n",
    "    def __init__(self, k: int):\n",
    "        self.q = [None] * k # 전달받은 값만큼 원형큐의 칸을 생성\n",
    "        self.maxlen = k # 원형큐의 최대 칸 갯수\n",
    "        self.front = 0 # 현재 칸 index\n",
    "        self.rear = 0 # 받은 값을 저장할 칸 index\n",
    "\n",
    "    def enQueue(self, value: int) -> bool: # 큐에 값넣기\n",
    "        if self.q[self.rear] is None: # 저장할 칸의 값이 None이면 실행\n",
    "            self.q[self.rear] = value # 전달받은 값을 저장칸에 저장\n",
    "            self.rear = (self.rear + 1) % self.maxlen\n",
    "            # 저장할 칸의 index 값을 1 증가 시키여 하는데 최대 칸을 채운후 다시 0으로 돌아가기 때문에 최대 칸 갯수와의 나머지 연산으로 index 값을 저장 \n",
    "            return True # 저장되었다면 True\n",
    "        else:\n",
    "            return False # 이미 값이 있다면 False\n",
    "\n",
    "    def deQueue(self) -> bool: # 큐에 값 없애기\n",
    "        if self.q[self.front] is None: # 현재 칸에 값이 없으면 False 반환\n",
    "            return False\n",
    "        else:\n",
    "            self.q[self.front] = None # 현재칸의 값을 None 으로 저장\n",
    "            self.front = (self.front + 1) % self.maxlen # enQueue와 마찬가지로 index 값을 나머지 연산으로 저장\n",
    "            return True # 삭제되었다면 True\n",
    "\n",
    "    def Front(self) -> int: # 현재 칸의 값을 반환 값이 없으면 -1 반환\n",
    "        return -1 if self.q[self.front] is None else self.q[self.front]\n",
    "\n",
    "    def Rear(self) -> int: # 저장할 칸의 값을 반환 값이 없으면 -1 반환\n",
    "        return -1 if self.q[self.rear -1] is None else self.q[self.rear]\n",
    "\n",
    "    def isEmpty(self) -> bool: # 큐의 칸이 비어있는지\n",
    "        return self.front == self.rear and self.q[self.front] is None\n",
    "\n",
    "    def isFull(self) -> bool: # 큐의 칸이 모두 차있는지\n",
    "        return self.front == self.rear and self.q[self.front] is not None\n"
   ]
  },
  {
   "attachments": {},
   "cell_type": "markdown",
   "metadata": {},
   "source": [
    "## 실시간 검색어 확인하기"
   ]
  },
  {
   "attachments": {},
   "cell_type": "markdown",
   "metadata": {},
   "source": [
    "#### 미리보기"
   ]
  },
  {
   "cell_type": "code",
   "execution_count": null,
   "metadata": {},
   "outputs": [],
   "source": [
    "from bs4 import BeautifulSoup\n",
    "import requests\n",
    "from datetime import datetime\n",
    "\n",
    "url = \"http://www.daum.net/\"\n",
    "response = requests.get(url)\n",
    "soup = BeautifulSoup(response.text, 'html.parser')\n",
    "rank = 1\n",
    "\n",
    "results = soup.findAll('a','link_favorsch')\n",
    "\n",
    "search_rank_file = open(\"rankresult.txt\",\"a\")\n",
    "\n",
    "print(datetime.today().strftime(\"%Y년 %m월 %d일의 실시간 검색어 순위입니다.\\n\"))\n",
    "\n",
    "for result in results:\n",
    "    search_rank_file.write(str(rank)+\"위:\"+result.get_text()+\"\\n\")\n",
    "    print(rank,\"위 : \",result.get_text(),\"\\n\")\n",
    "    rank += 1"
   ]
  },
  {
   "attachments": {},
   "cell_type": "markdown",
   "metadata": {},
   "source": [
    "#### 크롤러 알아보기"
   ]
  },
  {
   "attachments": {},
   "cell_type": "markdown",
   "metadata": {},
   "source": [
    "Crawler - 데이터를 모아주는 프로그램\n",
    "Crawling - Crawler를 이용해 데이터를 모으는 행위"
   ]
  },
  {
   "attachments": {},
   "cell_type": "markdown",
   "metadata": {},
   "source": [
    "#### 요청하고 응답받기"
   ]
  },
  {
   "attachments": {},
   "cell_type": "markdown",
   "metadata": {},
   "source": [
    "> pip install requests 를 이용해 requests 라이브러리 설치"
   ]
  },
  {
   "attachments": {},
   "cell_type": "markdown",
   "metadata": {},
   "source": [
    "requests.get(url) - GET 요청을 보내는 기능으로 url 정보(requests.response)를 반환해준다"
   ]
  },
  {
   "cell_type": "code",
   "execution_count": null,
   "metadata": {},
   "outputs": [],
   "source": [
    "import requests\n",
    "\n",
    "url = \"정보를 가져올 url\"\n",
    "response = requests.get(url)\n",
    "\n",
    "print(response.text)\n",
    "\n",
    "#print(response.url)\n",
    "\n",
    "#print(response.content)\n",
    "\n",
    "#print(response.encoding)\n",
    "\n",
    "#print(response.headers)\n",
    "\n",
    "#print(response.json)\n",
    "\n",
    "#print(response.links)\n",
    "\n",
    "#print(response.ok)\n",
    "\n",
    "#print(response.status_code)"
   ]
  },
  {
   "attachments": {},
   "cell_type": "markdown",
   "metadata": {},
   "source": [
    "#### Beautiful Soup"
   ]
  },
  {
   "attachments": {},
   "cell_type": "markdown",
   "metadata": {},
   "source": [
    "> pip install beautifulsoup 를 이용해 Beautiful Soup 설치"
   ]
  },
  {
   "attachments": {},
   "cell_type": "markdown",
   "metadata": {},
   "source": [
    "Beautiful Soup은 가져온 데이터를 의미있는 데이터로 사용할 수 있도록 전처리를 도와준다."
   ]
  },
  {
   "attachments": {},
   "cell_type": "markdown",
   "metadata": {},
   "source": [
    "BeautifulSoup(데이터,파싱(Parsing)방법)"
   ]
  },
  {
   "cell_type": "code",
   "execution_count": null,
   "metadata": {},
   "outputs": [],
   "source": [
    "import requests\n",
    "from bs4 import BeautifulSoup\n",
    "\n",
    "url = \"http://www.daum.net/\"\n",
    "response = requests.get(url)\n",
    "\n",
    "soup = BeautifulSoup(response.text, 'html.parser')"
   ]
  },
  {
   "attachments": {},
   "cell_type": "markdown",
   "metadata": {},
   "source": [
    "BeautifulSoup을 이용해 필요한 내용 추출"
   ]
  },
  {
   "cell_type": "code",
   "execution_count": null,
   "metadata": {},
   "outputs": [],
   "source": [
    "import requests\n",
    "from bs4 import BeautifulSoup\n",
    "\n",
    "url = \"http://www.daum.net/\"\n",
    "response = requests.get(url)\n",
    "\n",
    "soup = BeautifulSoup(response.text, 'html.parser')\n",
    "\n",
    "print(soup.title)\n",
    "print(soup.title.string)\n",
    "print(soup.span)\n",
    "print(soup.findAll('span'))"
   ]
  },
  {
   "attachments": {},
   "cell_type": "markdown",
   "metadata": {},
   "source": [
    "가져온 html 데이터를 html파일로 저장"
   ]
  },
  {
   "cell_type": "code",
   "execution_count": null,
   "metadata": {},
   "outputs": [],
   "source": [
    "import requests\n",
    "from bs4 import BeautifulSoup\n",
    "\n",
    "url = \"http://www.daum.net/\"\n",
    "response = requests.get(url)\n",
    "\n",
    "soup = BeautifulSoup(response.text, 'html.parser')\n",
    "\n",
    "file = open(\"daum.html\",\"w\")\n",
    "file.write(response.text)\n",
    "file.close()"
   ]
  },
  {
   "attachments": {},
   "cell_type": "markdown",
   "metadata": {},
   "source": [
    "데이터에서 html 요소 가져오기<br>\n",
    "(다음에서 실시간 검색어 가져오기)"
   ]
  },
  {
   "cell_type": "code",
   "execution_count": null,
   "metadata": {},
   "outputs": [],
   "source": [
    "from bs4 import BeautifulSoup\n",
    "import requests\n",
    "\n",
    "url = \"http://www.daum.net/\"\n",
    "response = requests.get(url)\n",
    "soup = BeautifulSoup(response.text, 'html.parser')\n",
    "\n",
    "# html 문서에서 모든 a태그를 가져오는 코드\n",
    "results = soup.findAll(\"a\",\"link_favorsch\")"
   ]
  },
  {
   "attachments": {},
   "cell_type": "markdown",
   "metadata": {},
   "source": [
    "#### 출력"
   ]
  },
  {
   "attachments": {},
   "cell_type": "markdown",
   "metadata": {},
   "source": [
    "- 보기 좋게 출력"
   ]
  },
  {
   "cell_type": "code",
   "execution_count": null,
   "metadata": {},
   "outputs": [],
   "source": [
    "from bs4 import BeautifulSoup\n",
    "import requests\n",
    "from datetime import datetime\n",
    "\n",
    "url = \"http://www.daum.net/\"\n",
    "response = requests.get(url)\n",
    "soup = BeautifulSoup(response.text, 'html.parser')\n",
    "rank = 1\n",
    "\n",
    "results = soup.findAll('a','link_favorsch')\n",
    "\n",
    "print(datetime.today().strftime(\"%Y년 %m월 %d일의 실시간 검색어 순위입니다.\\n\"))\n",
    "\n",
    "for result in results:\n",
    "    print(rank,\"위 : \",result.get_text(),\"\\n\")\n",
    "    rank += 1"
   ]
  },
  {
   "attachments": {},
   "cell_type": "markdown",
   "metadata": {},
   "source": [
    "- 파일로 출력"
   ]
  },
  {
   "cell_type": "code",
   "execution_count": null,
   "metadata": {},
   "outputs": [],
   "source": [
    "from bs4 import BeautifulSoup\n",
    "import requests\n",
    "from datetime import datetime\n",
    "\n",
    "url = \"http://www.daum.net/\"\n",
    "response = requests.get(url)\n",
    "soup = BeautifulSoup(response.text, 'html.parser')\n",
    "rank = 1\n",
    "\n",
    "results = soup.findAll('a','link_favorsch')\n",
    "\n",
    "search_rank_file = open(\"rankresult.txt\",\"a\")\n",
    "\n",
    "print(datetime.today().strftime(\"%Y년 %m월 %d일의 실시간 검색어 순위입니다.\\n\"))\n",
    "\n",
    "for result in results:\n",
    "    search_rank_file.write(str(rank)+\"위:\"+result.get_text()+\"\\n\")\n",
    "    print(rank,\"위 : \",result.get_text(),\"\\n\")\n",
    "    rank += 1"
   ]
  },
  {
   "attachments": {},
   "cell_type": "markdown",
   "metadata": {},
   "source": [
    "#### 응용"
   ]
  },
  {
   "attachments": {},
   "cell_type": "markdown",
   "metadata": {},
   "source": [
    "네이버 실시간 검색어 크롤링 <br>\n",
    "20 연령을 기준으로 실시간 검색어"
   ]
  },
  {
   "cell_type": "code",
   "execution_count": null,
   "metadata": {},
   "outputs": [],
   "source": [
    "from bs4 import BeautifulSoup\n",
    "import requests\n",
    "from datetime import datetime\n",
    "\n",
    "# 로봇이 아닌 사람이라고 말해주는 headers\n",
    "headers = {'User-Agent':'Mozilla/5.0 (Windows NT 6.3; Win64; x64) AppleWebKit/537.36 (KHTML, like Gecko) Chrome/63.0.3239.132 Safari/537.36'}\n",
    "url = \"https://datalab.naver.com/keyword/realtimeList.naver?age=20s\"\n",
    "response = requests.get(url,headers=headers)\n",
    "soup = BeautifulSoup(response.text, 'html.parser')\n",
    "rank = 1\n",
    "# span - item_title ( 네이버의 실시간 검색어 위치 )\n",
    "results = soup.findAll('span','item_title')\n",
    "\n",
    "print(response.text)\n",
    "\n",
    "search_rank_file = open(\"rankresult.txt\",\"a\")\n",
    "\n",
    "print(datetime.today().strftime(\"%Y년 %m월 %d일의 실시간 검색어 순위입니다.\\n\"))\n",
    "\n",
    "for result in results:\n",
    "    search_rank_file.write(str(rank)+\"위:\"+result.get_text()+\"\\n\")\n",
    "    print(rank,\"위 : \",result.get_text(),\"\\n\")\n",
    "    rank += 1"
   ]
  },
  {
   "attachments": {},
   "cell_type": "markdown",
   "metadata": {},
   "source": [
    "## 날씨 정보 받아오기"
   ]
  },
  {
   "attachments": {},
   "cell_type": "markdown",
   "metadata": {},
   "source": [
    "API키 발급 (https://bit.ly/3y936aM)"
   ]
  },
  {
   "attachments": {},
   "cell_type": "markdown",
   "metadata": {},
   "source": [
    "#### 미리보기"
   ]
  },
  {
   "cell_type": "code",
   "execution_count": null,
   "metadata": {},
   "outputs": [],
   "source": [
    "import requests\n",
    "import json\n",
    "\n",
    "city = \"Seoul\"\n",
    "apikey = \"################################\" # 발급 받은 api키\n",
    "lang = \"kr\"\n",
    "\n",
    "api = f\"http://api.openweathermap.org/data/2.5/weather?q={city}&appid={apikey}&lang={lang}&units=metric\"\n",
    "\n",
    "result = requests.get(api)\n",
    "data = json.loads(result.text)\n",
    "\n",
    "print(data[\"name\"],\"의 날씨입니다.\")\n",
    "print(\"날씨는 \",data[\"weather\"][0][\"description\"],\"입니다.\")\n",
    "print(\"현재 온도는 \",data[\"main\"][\"temp\"],\"입니다.\")\n",
    "print(\"하지만 체감 온도는 \",data[\"main\"][\"feels_like\"],\"입니다.\")\n",
    "print(\"최저 기온은 \",data[\"main\"][\"temp_min\"],\"입니다.\")\n",
    "print(\"최고 기온은 \",data[\"main\"][\"temp_max\"],\"입니다.\")\n",
    "print(\"습도는 \",data[\"main\"][\"humidity\"],\"입니다.\")\n",
    "print(\"기압은 \",data[\"main\"][\"pressure\"],\"입니다.\")\n",
    "print(\"풍향은 \",data[\"wind\"][\"deg\"],\"입니다.\")\n",
    "print(\"풍속은 \",data[\"wind\"][\"speed\"],\"입니다.\")"
   ]
  },
  {
   "attachments": {},
   "cell_type": "markdown",
   "metadata": {},
   "source": [
    "#### API 알아보기"
   ]
  },
  {
   "attachments": {},
   "cell_type": "markdown",
   "metadata": {},
   "source": [
    "- API를 만든다 - 사용자가 필요로 하는 기능을 만들고 서버에 올려놓은 뒤에 특정한 규약에 따라 사용할 수 있게 하는 프로그램\n",
    "- API를 사용한다 - 누군가가 만들어둔 기능을 특정한 규약에 맞춰 사용하는 것\n",
    "> 사용자가 만드는 프로그램과 기존의 프로그램을 연결해주는 다리가 api이다.<br>\n",
    "> openAPI - 누구나 사용할 수 있도록 공개된 API"
   ]
  },
  {
   "attachments": {},
   "cell_type": "markdown",
   "metadata": {},
   "source": [
    "날씨정보를 출력하는 프로그램 ( Openweathermap openAPI를 사용)"
   ]
  },
  {
   "attachments": {},
   "cell_type": "markdown",
   "metadata": {},
   "source": [
    "#### API key 알아보기"
   ]
  },
  {
   "attachments": {},
   "cell_type": "markdown",
   "metadata": {},
   "source": [
    "API key 는 api를 사용하는 사람을 구별하기 위해 발급받는 key"
   ]
  },
  {
   "attachments": {},
   "cell_type": "markdown",
   "metadata": {},
   "source": [
    "#### API 링크 만들기"
   ]
  },
  {
   "attachments": {},
   "cell_type": "markdown",
   "metadata": {},
   "source": [
    "python의 f-string 사용해서 api의 {} 안에 파라미터를 입력한다"
   ]
  },
  {
   "cell_type": "code",
   "execution_count": null,
   "metadata": {},
   "outputs": [],
   "source": [
    "city = \"Seoul\"\n",
    "apikey = \"################################\" # 자신의 api key\n",
    "api = f\"http://api.openweathermap.org/data/2.5/weather?q={city}&appid={apikey}\""
   ]
  },
  {
   "attachments": {},
   "cell_type": "markdown",
   "metadata": {},
   "source": [
    "#### 날씨 받아오기"
   ]
  },
  {
   "cell_type": "code",
   "execution_count": null,
   "metadata": {},
   "outputs": [],
   "source": [
    "import requests\n",
    "\n",
    "city = \"Seoul\"\n",
    "apikey = \"################################\"\n",
    "api = f\"http://api.openweathermap.org/data/2.5/weather?q={city}&appid={apikey}\"\n",
    "\n",
    "result = requests.get(api)\n",
    "print(result.text)"
   ]
  },
  {
   "attachments": {},
   "cell_type": "markdown",
   "metadata": {},
   "source": [
    "#### 출력"
   ]
  },
  {
   "attachments": {},
   "cell_type": "markdown",
   "metadata": {},
   "source": [
    "- JSON (javascript object notation) - 데이터를 주고 받을 때 사용하는포맷"
   ]
  },
  {
   "cell_type": "code",
   "execution_count": null,
   "metadata": {},
   "outputs": [],
   "source": [
    "import requests\n",
    "import json\n",
    "\n",
    "city = \"Seoul\"\n",
    "apikey = \"################################\"\n",
    "api = f\"http://api.openweathermap.org/data/2.5/weather?q={city}&appid={apikey}\"\n",
    "\n",
    "result = requests.get(api)\n",
    "print(result.text)\n",
    "\n",
    "data = json.loads(result.text)\n",
    "\n",
    "print(type(result.text))\n",
    "print(type(data))"
   ]
  },
  {
   "attachments": {},
   "cell_type": "markdown",
   "metadata": {},
   "source": [
    "- JSON 에서 원하는 데이터 추출"
   ]
  },
  {
   "cell_type": "code",
   "execution_count": null,
   "metadata": {},
   "outputs": [],
   "source": [
    "import requests\n",
    "import json\n",
    "\n",
    "city = \"Seoul\"\n",
    "apikey = \"################################\"\n",
    "api = f\"http://api.openweathermap.org/data/2.5/weather?q={city}&appid={apikey}\"\n",
    "\n",
    "result = requests.get(api)\n",
    "# print(result.text)\n",
    "\n",
    "data = json.loads(result.text)\n",
    "\n",
    "print(data[\"name\"],\"의 날씨입니다.\")\n",
    "print(\"날씨는 \",data[\"weather\"][0][\"description\"],\"입니다.\")\n",
    "print(\"현재 온도는 \",data[\"main\"][\"temp\"],\"입니다.\")\n",
    "print(\"하지만 체감 온도는 \",data[\"main\"][\"feels_like\"],\"입니다.\")\n",
    "# 최저 기온 : main - temp_min\n",
    "print(\"최저 기온은 \",data[\"main\"][\"temp_min\"],\"입니다.\")\n",
    "# 최고 기온 : main - temp_max\n",
    "print(\"최고 기온은 \",data[\"main\"][\"temp_max\"],\"입니다.\")\n",
    "# 습도 : main - humidity\n",
    "print(\"습도는 \",data[\"main\"][\"humidity\"],\"입니다.\")\n",
    "# 기압 : main - pressure\n",
    "print(\"기압은 \",data[\"main\"][\"pressure\"],\"입니다.\")\n",
    "# 풍향 : wind - deg\n",
    "print(\"풍향은 \",data[\"wind\"][\"deg\"],\"입니다.\")\n",
    "# 풍속 : wind - speed\n",
    "print(\"풍속은 \",data[\"wind\"][\"speed\"],\"입니다.\")"
   ]
  },
  {
   "attachments": {},
   "cell_type": "markdown",
   "metadata": {},
   "source": [
    "#### 언어 및 단위 변경"
   ]
  },
  {
   "cell_type": "code",
   "execution_count": null,
   "metadata": {},
   "outputs": [],
   "source": [
    "import requests\n",
    "import json\n",
    "\n",
    "city = \"Seoul\"\n",
    "apikey = \"################################\"\n",
    "lang = \"kr\"\n",
    "# units - metric\n",
    "api = f\"\"\"http://api.openweathermap.org/data/2.5/\\\n",
    "weather?q={city}&appid={apikey}&lang={lang}&units=metric\"\"\"\n",
    "\n",
    "result = requests.get(api)\n",
    "# print(result.text)\n",
    "\n",
    "data = json.loads(result.text)\n",
    "\n",
    "# 지역 : name\n",
    "print(data[\"name\"],\"의 날씨입니다.\")\n",
    "# 자세한 날씨 : weather - description\n",
    "print(\"날씨는 \",data[\"weather\"][0][\"description\"],\"입니다.\")\n",
    "# 현재 온도 : main - temp\n",
    "print(\"현재 온도는 \",data[\"main\"][\"temp\"],\"입니다.\")\n",
    "# 체감 온도 : main - feels_like\n",
    "print(\"하지만 체감 온도는 \",data[\"main\"][\"feels_like\"],\"입니다.\")\n",
    "# 최저 기온 : main - temp_min\n",
    "print(\"최저 기온은 \",data[\"main\"][\"temp_min\"],\"입니다.\")\n",
    "# 최고 기온 : main - temp_max\n",
    "print(\"최고 기온은 \",data[\"main\"][\"temp_max\"],\"입니다.\")\n",
    "# 습도 : main - humidity\n",
    "print(\"습도는 \",data[\"main\"][\"humidity\"],\"입니다.\")\n",
    "# 기압 : main - pressure\n",
    "print(\"기압은 \",data[\"main\"][\"pressure\"],\"입니다.\")\n",
    "# 풍향 : wind - deg\n",
    "print(\"풍향은 \",data[\"wind\"][\"deg\"],\"입니다.\")\n",
    "# 풍속 : wind - speed\n",
    "print(\"풍속은 \",data[\"wind\"][\"speed\"],\"입니다.\")"
   ]
  },
  {
   "attachments": {},
   "cell_type": "markdown",
   "metadata": {},
   "source": [
    "## 번역기 프로그램"
   ]
  },
  {
   "attachments": {},
   "cell_type": "markdown",
   "metadata": {},
   "source": [
    "#### 미리보기"
   ]
  },
  {
   "cell_type": "code",
   "execution_count": null,
   "metadata": {},
   "outputs": [],
   "source": [
    "from googletrans import Translator\n",
    "\n",
    "translator = Translator()\n",
    "# sentence = \"좋은 아침이에요\"\n",
    "sentence = input(\"번역을 원하는 문장을 입력하세요 : \")\n",
    "result = translator.translate(sentence, dest=\"en\")\n",
    "detect = translator.detect(sentence)\n",
    "\n",
    "print(\"\\n============= 번역 결과 ============\\n\")\n",
    "print(detect.lang,\":\", result.origin)\n",
    "print(result.dest,\":\", result.text)\n",
    "print(\"\\n====================================\\n\")"
   ]
  },
  {
   "attachments": {},
   "cell_type": "markdown",
   "metadata": {},
   "source": [
    "#### googletrans 알아보기"
   ]
  },
  {
   "attachments": {},
   "cell_type": "markdown",
   "metadata": {},
   "source": [
    "Googletrans - 언어감지 및 번역해주는 라이브러리"
   ]
  },
  {
   "attachments": {},
   "cell_type": "markdown",
   "metadata": {},
   "source": [
    "> pip install googletrans 로 설치"
   ]
  },
  {
   "cell_type": "code",
   "execution_count": null,
   "metadata": {},
   "outputs": [],
   "source": [
    "from googletrans import Translator\n",
    "\n",
    "print(Translator)"
   ]
  },
  {
   "attachments": {},
   "cell_type": "markdown",
   "metadata": {},
   "source": [
    "#### 언어 감지하기"
   ]
  },
  {
   "attachments": {},
   "cell_type": "markdown",
   "metadata": {},
   "source": [
    "1. 번역기 생성"
   ]
  },
  {
   "cell_type": "code",
   "execution_count": null,
   "metadata": {},
   "outputs": [],
   "source": [
    "from googletrans import Translator\n",
    "\n",
    "translator = Translator()"
   ]
  },
  {
   "attachments": {},
   "cell_type": "markdown",
   "metadata": {},
   "source": [
    "2. 언어 감지를 원하는 문장을 설정"
   ]
  },
  {
   "cell_type": "code",
   "execution_count": null,
   "metadata": {},
   "outputs": [],
   "source": [
    "# sentence = \"안녕하세요 코드라이언입니다.\"\n",
    "sentence = input(\"언어를 감지할 문장을 입력해주세요 : \")"
   ]
  },
  {
   "attachments": {},
   "cell_type": "markdown",
   "metadata": {},
   "source": [
    "3. 언어를 감지"
   ]
  },
  {
   "cell_type": "code",
   "execution_count": null,
   "metadata": {},
   "outputs": [],
   "source": [
    "detected = translator.detect(sentence)\n",
    "\n",
    "print(detected.lang)"
   ]
  },
  {
   "attachments": {},
   "cell_type": "markdown",
   "metadata": {},
   "source": [
    "#### 번역하기"
   ]
  },
  {
   "attachments": {},
   "cell_type": "markdown",
   "metadata": {},
   "source": [
    "- 번역의 순서\n",
    "    1. 번역기 생성\n",
    "    2. 번역을 원하는 문장을 설정\n",
    "    3. 번역을 원하는 언어를 설정\n",
    "    4. 번역한다.\n",
    "\n",
    "- translate(번역을 원하는 문장, 어떤 언어로 번역할건지)\n",
    "- translated(scr='번역을 원하는 문장의 언어',dest='번역한 문장의 언어',text=번역내용,pronunciation='발음')"
   ]
  },
  {
   "cell_type": "code",
   "execution_count": null,
   "metadata": {},
   "outputs": [],
   "source": [
    "from googletrans import Translator\n",
    "\n",
    "translator = Translator()\n",
    "\n",
    "sentence = input(\"번역을 원하는 문장을 입력해주세요 : \")\n",
    "dest = input(\"어떤 언어로 번역을 원하시나요?\")\n",
    "\n",
    "result = translator.translate(sentence,dest)\n",
    "detected = translator.detect(sentence)\n",
    "\n",
    "print(\"===========출 력 결 과===========\")\n",
    "print(detected.lang,\":\",sentence)\n",
    "print(result.dest,\":\",result.text)\n",
    "print(\"=================================\")"
   ]
  },
  {
   "attachments": {},
   "cell_type": "markdown",
   "metadata": {},
   "source": [
    "- 번역 가능 언어"
   ]
  },
  {
   "cell_type": "code",
   "execution_count": null,
   "metadata": {},
   "outputs": [],
   "source": [
    "LANGUAGES = {\n",
    "    'af': 'afrikaans',\n",
    "    'sq': 'albanian',\n",
    "    'am': 'amharic',\n",
    "    'ar': 'arabic',\n",
    "    'hy': 'armenian',\n",
    "    'az': 'azerbaijani',\n",
    "    'eu': 'basque',\n",
    "    'be': 'belarusian',\n",
    "    'bn': 'bengali',\n",
    "    'bs': 'bosnian',\n",
    "    'bg': 'bulgarian',\n",
    "    'ca': 'catalan',\n",
    "    'ceb': 'cebuano',\n",
    "    'ny': 'chichewa',\n",
    "    'zh-cn': 'chinese (simplified)',\n",
    "    'zh-tw': 'chinese (traditional)',\n",
    "    'co': 'corsican',\n",
    "    'hr': 'croatian',\n",
    "    'cs': 'czech',\n",
    "    'da': 'danish',\n",
    "    'nl': 'dutch',\n",
    "    'en': 'english',\n",
    "    'eo': 'esperanto',\n",
    "    'et': 'estonian',\n",
    "    'tl': 'filipino',\n",
    "    'fi': 'finnish',\n",
    "    'fr': 'french',\n",
    "    'fy': 'frisian',\n",
    "    'gl': 'galician',\n",
    "    'ka': 'georgian',\n",
    "    'de': 'german',\n",
    "    'el': 'greek',\n",
    "    'gu': 'gujarati',\n",
    "    'ht': 'haitian creole',\n",
    "    'ha': 'hausa',\n",
    "    'haw': 'hawaiian',\n",
    "    'iw': 'hebrew',\n",
    "    'he': 'hebrew',\n",
    "    'hi': 'hindi',\n",
    "    'hmn': 'hmong',\n",
    "    'hu': 'hungarian',\n",
    "    'is': 'icelandic',\n",
    "    'ig': 'igbo',\n",
    "    'id': 'indonesian',\n",
    "    'ga': 'irish',\n",
    "    'it': 'italian',\n",
    "    'ja': 'japanese',\n",
    "    'jw': 'javanese',\n",
    "    'kn': 'kannada',\n",
    "    'kk': 'kazakh',\n",
    "    'km': 'khmer',\n",
    "    'ko': 'korean',\n",
    "    'ku': 'kurdish (kurmanji)',\n",
    "    'ky': 'kyrgyz',\n",
    "    'lo': 'lao',\n",
    "    'la': 'latin',\n",
    "    'lv': 'latvian',\n",
    "    'lt': 'lithuanian',\n",
    "    'lb': 'luxembourgish',\n",
    "    'mk': 'macedonian',\n",
    "    'mg': 'malagasy',\n",
    "    'ms': 'malay',\n",
    "    'ml': 'malayalam',\n",
    "    'mt': 'maltese',\n",
    "    'mi': 'maori',\n",
    "    'mr': 'marathi',\n",
    "    'mn': 'mongolian',\n",
    "    'my': 'myanmar (burmese)',\n",
    "    'ne': 'nepali',\n",
    "    'no': 'norwegian',\n",
    "    'or': 'odia',\n",
    "    'ps': 'pashto',\n",
    "    'fa': 'persian',\n",
    "    'pl': 'polish',\n",
    "    'pt': 'portuguese',\n",
    "    'pa': 'punjabi',\n",
    "    'ro': 'romanian',\n",
    "    'ru': 'russian',\n",
    "    'sm': 'samoan',\n",
    "    'gd': 'scots gaelic',\n",
    "    'sr': 'serbian',\n",
    "    'st': 'sesotho',\n",
    "    'sn': 'shona',\n",
    "    'sd': 'sindhi',\n",
    "    'si': 'sinhala',\n",
    "    'sk': 'slovak',\n",
    "    'sl': 'slovenian',\n",
    "    'so': 'somali',\n",
    "    'es': 'spanish',\n",
    "    'su': 'sundanese',\n",
    "    'sw': 'swahili',\n",
    "    'sv': 'swedish',\n",
    "    'tg': 'tajik',\n",
    "    'ta': 'tamil',\n",
    "    'te': 'telugu',\n",
    "    'th': 'thai',\n",
    "    'tr': 'turkish',\n",
    "    'uk': 'ukrainian',\n",
    "    'ur': 'urdu',\n",
    "    'ug': 'uyghur',\n",
    "    'uz': 'uzbek',\n",
    "    'vi': 'vietnamese',\n",
    "    'cy': 'welsh',\n",
    "    'xh': 'xhosa',\n",
    "    'yi': 'yiddish',\n",
    "    'yo': 'yoruba',\n",
    "    'zu': 'zulu',\n",
    "}"
   ]
  },
  {
   "attachments": {},
   "cell_type": "markdown",
   "metadata": {},
   "source": [
    "## 메일 보내기"
   ]
  },
  {
   "attachments": {},
   "cell_type": "markdown",
   "metadata": {},
   "source": [
    "#### 미리보기"
   ]
  },
  {
   "cell_type": "code",
   "execution_count": null,
   "metadata": {},
   "outputs": [],
   "source": [
    "from email.message import EmailMessage\n",
    "import smtplib\n",
    "\n",
    "# SMTP 접속을 위한 서버, 계정 설정\n",
    "SMTP_SERVER = \"smtp.gmail.com\"\n",
    "# google의 SMTP server 포트 주소는 465\n",
    "SMTP_PORT = 465\n",
    "\n",
    "\n",
    "# 이메일 유효성 검사 함수\n",
    "def is_valid(addr):\n",
    "    import re\n",
    "    if re.match('(^[a-zA-Z0-9.+_-]+@[a-zA-Z0-9-]+.[a-zA-Z]{2,3}$)', addr):\n",
    "        return True\n",
    "    else:\n",
    "        return False\n",
    "\n",
    "message = EmailMessage()\n",
    "message.set_content(\"코드라이언 메일링 수업 - 본문입니다.\")\n",
    "\n",
    "message[\"Subject\"] = \"코드라이언 메일링 수업입니다.\"\n",
    "message[\"From\"] = \"###@gmail.com\"\n",
    "message[\"To\"] = \"###@gmail.com\"\n",
    "\n",
    "smtp = smtplib.SMTP_SSL(SMTP_SERVER,SMTP_PORT)\n",
    "smtp.login(\"###@gmail.com\",\"######\")\n",
    "\n",
    "is_valid(\"###@gmail.com\")\n",
    "if smtp.send_message(message)=={} :\n",
    "    print(\"성공적으로 메일을 보냈습니다.\")\n",
    "\n",
    "smtp.quit()"
   ]
  },
  {
   "attachments": {},
   "cell_type": "markdown",
   "metadata": {},
   "source": [
    "#### 사전준비 ( gmail 사용 )"
   ]
  },
  {
   "attachments": {},
   "cell_type": "markdown",
   "metadata": {},
   "source": [
    "IMAP 사용설정 ( https://bit.ly/3drYoeC )"
   ]
  },
  {
   "attachments": {},
   "cell_type": "markdown",
   "metadata": {},
   "source": [
    "Google 보안 수준 변경 ( https://bit.ly/3dr0Ced )"
   ]
  },
  {
   "attachments": {},
   "cell_type": "markdown",
   "metadata": {},
   "source": [
    "#### SMTP"
   ]
  },
  {
   "attachments": {},
   "cell_type": "markdown",
   "metadata": {},
   "source": [
    "SMTP ( simple mail transfer protocol ) - 간이 우편 전송 프로토콜<br>\n",
    "이메일 전송에 사용되는 네트워크 프로토콜이다"
   ]
  },
  {
   "attachments": {},
   "cell_type": "markdown",
   "metadata": {},
   "source": [
    "SMTP 서버를 이용해 원하는 곳으로 메일을 보낼 수 있다"
   ]
  },
  {
   "attachments": {},
   "cell_type": "markdown",
   "metadata": {},
   "source": [
    "<hr>"
   ]
  },
  {
   "attachments": {},
   "cell_type": "markdown",
   "metadata": {},
   "source": [
    "smtplib - 파이썬 내장 SMTP라이브러리"
   ]
  },
  {
   "attachments": {},
   "cell_type": "markdown",
   "metadata": {},
   "source": [
    "메일을 보내는 순서"
   ]
  },
  {
   "attachments": {},
   "cell_type": "markdown",
   "metadata": {},
   "source": [
    "1. SMTP 메일 서버를 연결한다"
   ]
  },
  {
   "cell_type": "code",
   "execution_count": null,
   "metadata": {},
   "outputs": [],
   "source": [
    "import smtplib\n",
    "\n",
    "SMTP_SERVER = \"smtp.gmail.com\"\n",
    "SMTP_PORT = 465\n",
    "\n",
    "smtp = smtplib.SMTP_SSL(SMTP_SERVER,SMTP_PORT)\n",
    "print(smtp)"
   ]
  },
  {
   "attachments": {},
   "cell_type": "markdown",
   "metadata": {},
   "source": [
    "2. SMTP 메일 서버에 로그인한다"
   ]
  },
  {
   "cell_type": "code",
   "execution_count": null,
   "metadata": {},
   "outputs": [],
   "source": [
    "import smtplib\n",
    "\n",
    "SMTP_SERVER = \"smtp.gmail.com\"\n",
    "SMTP_PORT = 465\n",
    "\n",
    "smtp = smtplib.SMTP_SSL(SMTP_SERVER,SMTP_PORT)\n",
    "smtp.login(\"google-id@gmail.com\",\"password\")"
   ]
  },
  {
   "attachments": {},
   "cell_type": "markdown",
   "metadata": {},
   "source": [
    "3. SMTP 메일 서버로 메일을 보낸다"
   ]
  },
  {
   "cell_type": "code",
   "execution_count": null,
   "metadata": {},
   "outputs": [],
   "source": [
    "import smtplib\n",
    "\n",
    "SMTP_SERVER = \"smtp.gmail.com\"\n",
    "SMTP_PORT = 465\n",
    "\n",
    "smtp = smtplib.SMTP_SSL(SMTP_SERVER,SMTP_PORT)\n",
    "smtp.login(\"google-id@gmail.com\",\"password\")\n",
    "smtp.send_message()\n",
    "smtp.quit()"
   ]
  },
  {
   "attachments": {},
   "cell_type": "markdown",
   "metadata": {},
   "source": [
    "#### Email Message - MIME"
   ]
  },
  {
   "attachments": {},
   "cell_type": "markdown",
   "metadata": {},
   "source": [
    "MIME (Multipurpose Internet Mail Extensions) - 전자 우편을 위한 인터넷 표준 포맷"
   ]
  },
  {
   "attachments": {},
   "cell_type": "markdown",
   "metadata": {},
   "source": [
    "email.message 모듈의 EmailMessage 기능으로 MIME 형태로 변형"
   ]
  },
  {
   "attachments": {},
   "cell_type": "markdown",
   "metadata": {},
   "source": [
    "1. 이메일을 만든다"
   ]
  },
  {
   "cell_type": "code",
   "execution_count": null,
   "metadata": {},
   "outputs": [],
   "source": [
    "import smtplib\n",
    "from email.message import EmailMessage\n",
    "\n",
    "SMTP_SERVER = \"smtp.gmail.com\"\n",
    "SMTP_PORT = 465\n",
    "\n",
    "message = EmailMessage()\n",
    "\n",
    "smtp = smtplib.SMTP_SSL(SMTP_SERVER,SMTP_PORT)\n",
    "smtp.login(\"###@gmail.com\",\"######\")\n",
    "smtp.send_message()\n",
    "smtp.quit()"
   ]
  },
  {
   "attachments": {},
   "cell_type": "markdown",
   "metadata": {},
   "source": [
    "2. 이메일에 내용을 담는다"
   ]
  },
  {
   "cell_type": "code",
   "execution_count": null,
   "metadata": {},
   "outputs": [],
   "source": [
    "import smtplib\n",
    "from email.message import EmailMessage\n",
    "\n",
    "SMTP_SERVER = \"smtp.gmail.com\"\n",
    "SMTP_PORT = 465\n",
    "\n",
    "message = EmailMessage()\n",
    "message.set_content(\"메일의 본문내용\")\n",
    "\n",
    "smtp = smtplib.SMTP_SSL(SMTP_SERVER,SMTP_PORT)\n",
    "smtp.login(\"###@gmail.com\",\"######\")\n",
    "smtp.send_message()\n",
    "smtp.quit()"
   ]
  },
  {
   "attachments": {},
   "cell_type": "markdown",
   "metadata": {},
   "source": [
    "3. header에 발신자 수신자를 설정한다 "
   ]
  },
  {
   "cell_type": "code",
   "execution_count": null,
   "metadata": {},
   "outputs": [],
   "source": [
    "import smtplib\n",
    "from email.message import EmailMessage\n",
    "\n",
    "SMTP_SERVER = \"smtp.gmail.com\"\n",
    "SMTP_PORT = 465\n",
    "\n",
    "message = EmailMessage()\n",
    "message.set_content(\"메일의 본문내용\")\n",
    "\n",
    "message[\"Subject\"] = \"제목입니다.\"\n",
    "message[\"From\"] = \"###@gmail.com\" # 보내는사람\n",
    "message[\"To\"] = \"###@gmail.com\" # 받는사람\n",
    "\n",
    "smtp = smtplib.SMTP_SSL(SMTP_SERVER,SMTP_PORT)\n",
    "smtp.login(\"###@gmail.com\",\"######\")\n",
    "smtp.send_message()\n",
    "smtp.quit()"
   ]
  },
  {
   "attachments": {},
   "cell_type": "markdown",
   "metadata": {},
   "source": [
    "#### 메일 전송"
   ]
  },
  {
   "cell_type": "code",
   "execution_count": null,
   "metadata": {},
   "outputs": [],
   "source": [
    "import smtplib\n",
    "from email.message import EmailMessage\n",
    "\n",
    "SMTP_SERVER = \"smtp.gmail.com\"\n",
    "SMTP_PORT = 465\n",
    "\n",
    "message = EmailMessage()\n",
    "message.set_content(\"메일의 본문내용\")\n",
    "\n",
    "message[\"Subject\"] = \"제목입니다.\"\n",
    "message[\"From\"] = \"###@gmail.com\"\n",
    "message[\"To\"] = \"###@gmail.com\"\n",
    "\n",
    "smtp = smtplib.SMTP_SSL(SMTP_SERVER,SMTP_PORT)\n",
    "smtp.login(\"###@gmail.com\",\"######\")\n",
    "smtp.send_message(message)\n",
    "smtp.quit()"
   ]
  },
  {
   "attachments": {},
   "cell_type": "markdown",
   "metadata": {},
   "source": [
    "#### 메일에 사진 첨부"
   ]
  },
  {
   "cell_type": "code",
   "execution_count": null,
   "metadata": {},
   "outputs": [],
   "source": [
    "import smtplib\n",
    "from email.message import EmailMessage\n",
    "\n",
    "SMTP_SERVER = \"smtp.gmail.com\"\n",
    "SMTP_PORT = 465\n",
    "\n",
    "message = EmailMessage()\n",
    "message.set_content(\"메일의 본문내용\")\n",
    "\n",
    "message[\"Subject\"] = \"제목입니다.\"\n",
    "message[\"From\"] = \"###@gmail.com\"\n",
    "message[\"To\"] = \"###@gmail.com\"\n",
    "\n",
    "smtp = smtplib.SMTP_SSL(SMTP_SERVER,SMTP_PORT)\n",
    "smtp.login(\"###@gmail.com\",\"######\")\n",
    "smtp.send_message(message)\n",
    "smtp.quit()"
   ]
  }
 ],
 "metadata": {
  "language_info": {
   "name": "python"
  },
  "orig_nbformat": 4
 },
 "nbformat": 4,
 "nbformat_minor": 2
}
